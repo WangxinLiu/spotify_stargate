{
 "cells": [
  {
   "cell_type": "code",
   "execution_count": 1,
   "id": "de632afa-3703-48cc-8af7-6ac5fc529589",
   "metadata": {},
   "outputs": [],
   "source": [
    "import urllib.request\n",
    "import json\n",
    "import openai\n",
    "import json\n",
    "from openai import OpenAI\n",
    "from openai.types import Completion, CompletionChoice, CompletionUsage"
   ]
  },
  {
   "cell_type": "code",
   "execution_count": 2,
   "id": "dc0faa13-771c-40a8-b5dc-72470c967a88",
   "metadata": {},
   "outputs": [],
   "source": [
    "import spotipy\n",
    "import webbrowser\n",
    "import geocoder\n",
    "from nltk.corpus import stopwords\n",
    "import spotipy.util as util\n",
    "import random\n",
    "import requests\n",
    "import datetime\n"
   ]
  },
  {
   "cell_type": "code",
   "execution_count": 3,
   "id": "479214d0-e548-4720-9166-1bbd3d9c4e3f",
   "metadata": {},
   "outputs": [],
   "source": [
    "#Get ISS position API\n",
    "request = urllib.request.Request(\"http://api.open-notify.org/iss-now.json\")\n",
    "response = urllib.request.urlopen(request)"
   ]
  },
  {
   "cell_type": "code",
   "execution_count": 4,
   "id": "bda3b790-5d7f-4666-999a-f67bc8fee621",
   "metadata": {},
   "outputs": [],
   "source": [
    "iss_obj = json.loads(response.read())"
   ]
  },
  {
   "cell_type": "code",
   "execution_count": 5,
   "id": "761fcc36-6c0d-4de4-9748-01905945c003",
   "metadata": {},
   "outputs": [
    {
     "name": "stdout",
     "output_type": "stream",
     "text": [
      "13.4134 -76.2124 2023-11-30 02:53:03\n"
     ]
    }
   ],
   "source": [
    "# The International Space Station moves at 28,000 km/h \n",
    "line = 'ISS'\n",
    "timestamp = iss_obj['timestamp']\n",
    "if line == 'ISS':\n",
    "    latitude=iss_obj['iss_position']['latitude']\n",
    "    longitude=iss_obj['iss_position']['longitude']\n",
    "time=datetime.datetime.fromtimestamp(iss_obj['timestamp'])\n",
    "print(latitude,longitude,time)"
   ]
  },
  {
   "cell_type": "code",
   "execution_count": 6,
   "id": "f936aac7-d5ac-4508-922a-f81c2d4612a4",
   "metadata": {},
   "outputs": [],
   "source": [
    "with open(\"keys/city_key.txt\", \"r\") as file:\n",
    "    city_key = file.read()"
   ]
  },
  {
   "cell_type": "code",
   "execution_count": 7,
   "id": "6dc25cff-3307-4c4d-8b21-6944b7a5b168",
   "metadata": {},
   "outputs": [],
   "source": [
    "#Get location information\n",
    "requestCity = urllib.request.Request(\"https://api.opencagedata.com/geocode/v1/json?q=\"+latitude+\",\"+longitude+\"&key=\"+city_key)\n",
    "responseCity = urllib.request.urlopen(requestCity)\n"
   ]
  },
  {
   "cell_type": "code",
   "execution_count": 8,
   "id": "82fd0a4d-9a91-4de0-bde6-2ee7641509a9",
   "metadata": {},
   "outputs": [],
   "source": [
    "city_obj = json.loads(responseCity.read())"
   ]
  },
  {
   "cell_type": "code",
   "execution_count": 9,
   "id": "f15b2cdd-bb5c-4ce2-9ca9-60dbf8825a7e",
   "metadata": {},
   "outputs": [
    {
     "name": "stdout",
     "output_type": "stream",
     "text": [
      "{'documentation': 'https://opencagedata.com/api', 'licenses': [{'name': 'see attribution guide', 'url': 'https://opencagedata.com/credits'}], 'rate': {'limit': 2500, 'remaining': 2497, 'reset': 1701388800}, 'results': [{'annotations': {'DMS': {'lat': \"13° 24' 48.24000'' N\", 'lng': \"76° 12' 44.64000'' W\"}, 'MGRS': '18PUV6873783175', 'Maidenhead': 'FK13vj49mf', 'Mercator': {'x': -8483925.56, 'y': 1497096.042}, 'OSM': {'note_url': 'https://www.openstreetmap.org/note/new#map=17/13.41340/-76.21240&layers=N', 'url': 'https://www.openstreetmap.org/?mlat=13.41340&mlon=-76.21240#map=17/13.41340/-76.21240'}, 'geohash': 'd63u39zfdqgxwt8n3bup', 'qibla': 61.72, 'roadinfo': {'drive_on': 'right', 'speed_in': 'km/h'}, 'sun': {'rise': {'apparent': 1701342720, 'astronomical': 1701338220, 'civil': 1701341400, 'nautical': 1701339780}, 'set': {'apparent': 1701383700, 'astronomical': 1701388200, 'civil': 1701385020, 'nautical': 1701386640}}, 'timezone': {'name': 'GMT+5', 'now_in_dst': 0, 'offset_sec': -18000, 'offset_string': '-0500', 'short_name': 'GMT+5'}, 'what3words': {'words': 'gyros.gondola.inflows'}, 'wikidata': 'Q1247'}, 'bounds': {'northeast': {'lat': 22.6748474, 'lng': -60.6005859}, 'southwest': {'lat': 7.9721977, 'lng': -88.59375}}, 'components': {'_category': 'natural/water', '_type': 'body_of_water', 'body_of_water': 'Caribbean Sea'}, 'confidence': 1, 'formatted': 'Caribbean Sea', 'geometry': {'lat': 13.4134, 'lng': -76.2124}}], 'status': {'code': 200, 'message': 'OK'}, 'stay_informed': {'blog': 'https://blog.opencagedata.com', 'mastodon': 'https://en.osm.town/@opencage'}, 'thanks': 'For using an OpenCage API', 'timestamp': {'created_http': 'Thu, 30 Nov 2023 02:53:03 GMT', 'created_unix': 1701312783}, 'total_results': 1}\n"
     ]
    }
   ],
   "source": [
    "print(city_obj)"
   ]
  },
  {
   "cell_type": "code",
   "execution_count": 10,
   "id": "2a6b4dc7-c8b6-49c0-9dde-18a526647748",
   "metadata": {},
   "outputs": [
    {
     "name": "stdout",
     "output_type": "stream",
     "text": [
      "Caribbean Sea\n"
     ]
    }
   ],
   "source": [
    "#Get the location name\n",
    "category=city_obj[\"results\"][0][\"components\"][\"_category\"]\n",
    "\n",
    "type=city_obj[\"results\"][0][\"components\"][\"_type\"]\n",
    "if type=='building' or type=='road':\n",
    "    location=city_obj[\"results\"][0][\"components\"][\"county\"]\n",
    "else:\n",
    "    location=city_obj[\"results\"][0][\"components\"][type]\n",
    "    \n",
    "\n",
    "print(location)"
   ]
  },
  {
   "cell_type": "code",
   "execution_count": 11,
   "id": "abfe4f48-f541-4afd-bc61-7245d6d760ab",
   "metadata": {},
   "outputs": [
    {
     "name": "stdout",
     "output_type": "stream",
     "text": [
      "night\n"
     ]
    }
   ],
   "source": [
    "#To check the day time or the night time by the time of sunrise and sunset\n",
    "loc_sun=city_obj[\"results\"][0]['annotations']['sun']\n",
    "sunrise=loc_sun['rise']['apparent']\n",
    "sunset=loc_sun['set']['apparent']\n",
    "localtime=timestamp+city_obj[\"results\"][0]['annotations']['timezone']['offset_sec']\n",
    "\n",
    "if localtime>sunrise and localtime<sunset: \n",
    "    city_status='day'\n",
    "else:\n",
    "    city_status='night'\n",
    "    \n",
    "print(city_status)"
   ]
  },
  {
   "cell_type": "code",
   "execution_count": 12,
   "id": "2b2c74d6-235f-4615-83fe-a78e4e308bc3",
   "metadata": {},
   "outputs": [],
   "source": [
    "\n",
    "with open(\"keys/weather_key.txt\", \"r\") as file:\n",
    "    weather_key = file.read()\n",
    "    \n",
    "with open(\"keys/openai_key.txt\", \"r\") as file:\n",
    "    openai_key = file.read()"
   ]
  },
  {
   "cell_type": "code",
   "execution_count": 13,
   "id": "1a9dc5f9-17e8-4386-921b-b1d3200543ef",
   "metadata": {},
   "outputs": [],
   "source": [
    "#Get local weather information\n",
    "weather_url = f'https://api.openweathermap.org/data/2.5/weather?lat={latitude}&lon={longitude}&appid={weather_key}'\n",
    "request_weather = urllib.request.Request(weather_url)\n",
    "response_weather = urllib.request.urlopen(request_weather)"
   ]
  },
  {
   "cell_type": "code",
   "execution_count": 14,
   "id": "224d153f-cd4f-4ad2-9062-1098afb52cd6",
   "metadata": {},
   "outputs": [
    {
     "name": "stdout",
     "output_type": "stream",
     "text": [
      "Clear\n"
     ]
    }
   ],
   "source": [
    "weather_obj = json.loads(response_weather.read())\n",
    "weather = weather_obj['weather'][0]['main']\n",
    "print (weather)"
   ]
  },
  {
   "cell_type": "code",
   "execution_count": 26,
   "id": "9269fe2c-4c28-4433-9062-5af891f255ac",
   "metadata": {},
   "outputs": [
    {
     "name": "stdout",
     "output_type": "stream",
     "text": [
      "ChatCompletion(id='chatcmpl-8QRWY21CTjLoUYufmPoqVI9XkmLQR', choices=[Choice(finish_reason='stop', index=0, message=ChatCompletionMessage(content='[\"Caribbean\", \"sea\", \"night\", \"clear\", \"weather\", \"moonlit\", \"waves\", \"stars\", \"ocean\", \"serene\", \"tranquil\", \"peaceful\", \"relaxing\", \"sparkling\", \"magical\", \"tropical\", \"calm\", \"island\", \"romantic\", \"paradise\"]', role='assistant', function_call=None, tool_calls=None))], created=1701313022, model='gpt-3.5-turbo-0613', object='chat.completion', system_fingerprint=None, usage=CompletionUsage(completion_tokens=76, prompt_tokens=36, total_tokens=112))\n"
     ]
    }
   ],
   "source": [
    "#Get key words by OpenAI API\n",
    "number='20'\n",
    "\n",
    "client = OpenAI(\n",
    "   \n",
    "    api_key= openai_key,\n",
    ")\n",
    "response = client.chat.completions.create(\n",
    "    messages=[\n",
    "        {\n",
    "            \"role\": \"user\",\n",
    "            \"content\": f\"Generate JSON list of {number} keywords for playlist of {location} in {city_status} time in {weather} weather, with no format, no explanation, no enter.\", \n",
    "\n",
    "        }\n",
    "    ],\n",
    "    model=\"gpt-3.5-turbo\",\n",
    ")\n",
    "print(response)\n"
   ]
  },
  {
   "cell_type": "code",
   "execution_count": 16,
   "id": "2f3b5743-808b-4670-a48d-d13e067b5b00",
   "metadata": {},
   "outputs": [
    {
     "name": "stdout",
     "output_type": "stream",
     "text": [
      "[\"Caribbean\", \"Nighttime\", \"Sea\", \"Travel\", \"Relaxation\", \"Beaches\", \"Islands\", \"Ocean\", \"Moonlight\", \"Sandy shores\", \"Palm trees\", \"Starlit sky\", \"Tropical\", \"Euphoria\", \"Calmness\", \"Serene\", \"Paradise\", \"Hammocks\", \"Crashing waves\", \"Escape\"]\n",
      "['Caribbean', 'Nighttime', 'Sea', 'Travel', 'Relaxation', 'Beaches', 'Islands', 'Ocean', 'Moonlight', 'Sandy shores', 'Palm trees', 'Starlit sky', 'Tropical', 'Euphoria', 'Calmness', 'Serene', 'Paradise', 'Hammocks', 'Crashing waves', 'Escape']\n"
     ]
    }
   ],
   "source": [
    "#Format the response\n",
    "raw_string = str(response)\n",
    "\n",
    "if raw_string.find(\"keywords\")>0:\n",
    "    content_start = raw_string.find('\"keywords\":' ) + len('\"keywords\":')\n",
    "    content_end = raw_string.find(\"', role=\", content_start)-1\n",
    "else:\n",
    "    content_start = raw_string.find(\"content='\") + len(\"content='\")\n",
    "    content_end = raw_string.find(\"', role=\", content_start)\n",
    "json_content = raw_string[content_start:content_end]\n",
    "\n",
    "\n",
    "print(json_content)\n",
    "keywords_list = json.loads(json_content)\n",
    "\n",
    "print(keywords_list)\n"
   ]
  },
  {
   "cell_type": "code",
   "execution_count": 17,
   "id": "426ac09e-0124-48f1-ae62-52b70421a55c",
   "metadata": {},
   "outputs": [],
   "source": [
    "with open(\"keys/spotify_keys.json\", \"r\") as file:\n",
    "    api_tokens = json.load(file)"
   ]
  },
  {
   "cell_type": "code",
   "execution_count": 18,
   "id": "e9d83317-20d1-4599-8507-cfa4019ae28c",
   "metadata": {},
   "outputs": [],
   "source": [
    "client_id = api_tokens[\"client_id\"]\n",
    "client_secret = api_tokens[\"client_secret\"]\n",
    "redirectURI = api_tokens[\"redirect\"]\n",
    "username = api_tokens[\"username\"]\n",
    "userid = api_tokens[\"userid\"]"
   ]
  },
  {
   "cell_type": "code",
   "execution_count": 19,
   "id": "9eff7f38-bf72-460b-8f34-5fd39f9ab307",
   "metadata": {},
   "outputs": [],
   "source": [
    "scope = 'user-read-private user-read-playback-state user-modify-playback-state playlist-modify-public user-library-read'\n",
    "token = util.prompt_for_user_token(username, scope, client_id=client_id,\n",
    "                           client_secret=client_secret,\n",
    "                           redirect_uri=redirectURI)"
   ]
  },
  {
   "cell_type": "code",
   "execution_count": 20,
   "id": "d4dab846-640c-4805-860e-68f70341ba1b",
   "metadata": {},
   "outputs": [],
   "source": [
    "sp = spotipy.Spotify(auth=token)"
   ]
  },
  {
   "cell_type": "code",
   "execution_count": 21,
   "id": "7a1b58e1-1ddb-4466-a204-bc827bf5e371",
   "metadata": {},
   "outputs": [],
   "source": [
    "tracks = []\n",
    "\n",
    "for word in keywords_list:\n",
    "    searchResults = sp.search(q=word,type='track',limit=1)\n",
    "    if len(searchResults['tracks']['items'])>0:\n",
    "        tracks.append(searchResults['tracks']['items'][0]['uri'])"
   ]
  },
  {
   "cell_type": "code",
   "execution_count": 24,
   "id": "2c625c9e-282f-45fc-a5c4-b92711473bf5",
   "metadata": {},
   "outputs": [
    {
     "name": "stdout",
     "output_type": "stream",
     "text": [
      "{'snapshot_id': 'Myw3YmEzNzAwNWQ4MWU0NzY4NDZkMzYwZmVkNTAzMmUyMTM3YzU2ZTZh'}\n",
      "{'collaborative': False, 'description': 'Welcome on board ISS line, we are now approching Caribbean Sea, hope you have a good journey!  Arrrival Time: 2023-11-30 02:53:03  Weather: Clear', 'external_urls': {'spotify': 'https://open.spotify.com/playlist/14wmJ1G7VLmPBzc7yEiAwU'}, 'followers': {'href': None, 'total': 0}, 'href': 'https://api.spotify.com/v1/playlists/14wmJ1G7VLmPBzc7yEiAwU', 'id': '14wmJ1G7VLmPBzc7yEiAwU', 'images': [], 'name': 'Go to Caribbean Sea with ISS', 'owner': {'display_name': 'WangxinLiu', 'external_urls': {'spotify': 'https://open.spotify.com/user/31mvdqp55nskpk66v4nzpyea42ci'}, 'href': 'https://api.spotify.com/v1/users/31mvdqp55nskpk66v4nzpyea42ci', 'id': '31mvdqp55nskpk66v4nzpyea42ci', 'type': 'user', 'uri': 'spotify:user:31mvdqp55nskpk66v4nzpyea42ci'}, 'primary_color': None, 'public': True, 'snapshot_id': 'MSxkNTBlZjc2YzU2NmQwMTJlZjY0MTJiOWMyMWI0OWYxYTU2MTMyMDNm', 'tracks': {'href': 'https://api.spotify.com/v1/playlists/14wmJ1G7VLmPBzc7yEiAwU/tracks', 'items': [], 'limit': 100, 'next': None, 'offset': 0, 'previous': None, 'total': 0}, 'type': 'playlist', 'uri': 'spotify:playlist:14wmJ1G7VLmPBzc7yEiAwU'}\n"
     ]
    }
   ],
   "source": [
    "image_id='https://d13k13wj6adfdf.cloudfront.net/urban_areas/san-francisco-bay-area_web-f17b1f60e6.jpg'\n",
    "my_playlist = sp.user_playlist_create(user=userid, name=f\"Go to {location} with {line}\", public=True,\n",
    "                                      description=f\"Welcome on board ISS line, we are now approching {location}, hope you have a good journey!  Arrrival Time: {time}  Weather: {weather}\")\n",
    "\n",
    "results = sp.user_playlist_add_tracks(username, my_playlist['id'], tracks)\n",
    "print(results)\n",
    "print(my_playlist)"
   ]
  },
  {
   "cell_type": "code",
   "execution_count": 23,
   "id": "6729f877-5c50-43fe-b62c-f479edcd3c72",
   "metadata": {},
   "outputs": [
    {
     "data": {
      "text/plain": [
       "True"
      ]
     },
     "execution_count": 23,
     "metadata": {},
     "output_type": "execute_result"
    }
   ],
   "source": [
    "webbrowser.open(my_playlist['external_urls']['spotify'])"
   ]
  },
  {
   "cell_type": "code",
   "execution_count": null,
   "id": "d4df3cb9-d875-40f5-b208-2b204156553a",
   "metadata": {},
   "outputs": [],
   "source": []
  }
 ],
 "metadata": {
  "kernelspec": {
   "display_name": "Python 3 (ipykernel)",
   "language": "python",
   "name": "python3"
  },
  "language_info": {
   "codemirror_mode": {
    "name": "ipython",
    "version": 3
   },
   "file_extension": ".py",
   "mimetype": "text/x-python",
   "name": "python",
   "nbconvert_exporter": "python",
   "pygments_lexer": "ipython3",
   "version": "3.12.0"
  }
 },
 "nbformat": 4,
 "nbformat_minor": 5
}
