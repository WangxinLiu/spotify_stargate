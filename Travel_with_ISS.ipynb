{
 "cells": [
  {
   "cell_type": "code",
   "execution_count": 1,
   "id": "de632afa-3703-48cc-8af7-6ac5fc529589",
   "metadata": {},
   "outputs": [],
   "source": [
    "import urllib.request\n",
    "import json\n",
    "import openai\n",
    "import json\n",
    "from openai import OpenAI\n",
    "from openai.types import Completion, CompletionChoice, CompletionUsage\n",
    "import base64\n",
    "from pyproj import Proj, Transformer\n",
    "from random import randrange"
   ]
  },
  {
   "cell_type": "code",
   "execution_count": 2,
   "id": "dc0faa13-771c-40a8-b5dc-72470c967a88",
   "metadata": {},
   "outputs": [],
   "source": [
    "import spotipy\n",
    "import webbrowser\n",
    "import geocoder\n",
    "import spotipy.util as util\n",
    "import random\n",
    "import requests\n",
    "import datetime\n",
    "from io import BytesIO\n",
    "from PIL import Image"
   ]
  },
  {
   "cell_type": "code",
   "execution_count": 3,
   "id": "479214d0-e548-4720-9166-1bbd3d9c4e3f",
   "metadata": {},
   "outputs": [],
   "source": [
    "#Get ISS position API\n",
    "request = urllib.request.Request(\"http://api.open-notify.org/iss-now.json\")\n",
    "response = urllib.request.urlopen(request)"
   ]
  },
  {
   "cell_type": "code",
   "execution_count": 4,
   "id": "bda3b790-5d7f-4666-999a-f67bc8fee621",
   "metadata": {},
   "outputs": [],
   "source": [
    "iss_obj = json.loads(response.read())"
   ]
  },
  {
   "cell_type": "code",
   "execution_count": 5,
   "id": "761fcc36-6c0d-4de4-9748-01905945c003",
   "metadata": {},
   "outputs": [
    {
     "name": "stdout",
     "output_type": "stream",
     "text": [
      "21.6856 -22.4450 2023-12-04 11:31:22\n"
     ]
    }
   ],
   "source": [
    "# The International Space Station moves at 28,000 km/h \n",
    "line = 'ISS'\n",
    "timestamp = iss_obj['timestamp']\n",
    "if line == 'ISS':\n",
    "    latitude=iss_obj['iss_position']['latitude']\n",
    "    longitude=iss_obj['iss_position']['longitude']\n",
    "if line == 'python':\n",
    "    latitude=str(randrange(-90,90))\n",
    "    longitude=str(randrange(-180,180))\n",
    "time=datetime.datetime.fromtimestamp(iss_obj['timestamp'])\n",
    "print(latitude,longitude,time)"
   ]
  },
  {
   "cell_type": "code",
   "execution_count": 6,
   "id": "f936aac7-d5ac-4508-922a-f81c2d4612a4",
   "metadata": {},
   "outputs": [],
   "source": [
    "with open(\"keys/city_key.txt\", \"r\") as file:\n",
    "    city_key = file.read()"
   ]
  },
  {
   "cell_type": "code",
   "execution_count": 7,
   "id": "6dc25cff-3307-4c4d-8b21-6944b7a5b168",
   "metadata": {},
   "outputs": [],
   "source": [
    "#Get location information\n",
    "requestCity = urllib.request.Request(\"https://api.opencagedata.com/geocode/v1/json?q=\"+latitude+\",\"+longitude+\"&key=\"+city_key)\n",
    "responseCity = urllib.request.urlopen(requestCity)\n"
   ]
  },
  {
   "cell_type": "code",
   "execution_count": 8,
   "id": "82fd0a4d-9a91-4de0-bde6-2ee7641509a9",
   "metadata": {},
   "outputs": [],
   "source": [
    "city_obj = json.loads(responseCity.read())"
   ]
  },
  {
   "cell_type": "code",
   "execution_count": 9,
   "id": "f15b2cdd-bb5c-4ce2-9ca9-60dbf8825a7e",
   "metadata": {},
   "outputs": [
    {
     "name": "stdout",
     "output_type": "stream",
     "text": [
      "{'documentation': 'https://opencagedata.com/api', 'licenses': [{'name': 'see attribution guide', 'url': 'https://opencagedata.com/credits'}], 'rate': {'limit': 2500, 'remaining': 2468, 'reset': 1701734400}, 'results': [{'annotations': {'DMS': {'lat': \"21° 41' 8.16000'' N\", 'lng': \"22° 26' 42.00000'' W\"}, 'MGRS': '27QUD5050798724', 'Maidenhead': 'HL81sq64on', 'Mercator': {'x': -2498565.971, 'y': 2458037.19}, 'OSM': {'note_url': 'https://www.openstreetmap.org/note/new#map=17/21.68560/-22.44500&layers=N', 'url': 'https://www.openstreetmap.org/?mlat=21.68560&mlon=-22.44500#map=17/21.68560/-22.44500'}, 'geohash': 'eeb5378pc8ffz0eu153v', 'qibla': 77.72, 'roadinfo': {'drive_on': 'right', 'speed_in': 'km/h'}, 'sun': {'rise': {'apparent': 1701676440, 'astronomical': 1701671760, 'civil': 1701675000, 'nautical': 1701673380}, 'set': {'apparent': 1701715560, 'astronomical': 1701720240, 'civil': 1701717000, 'nautical': 1701718620}}, 'timezone': {'name': 'GMT+1', 'now_in_dst': 0, 'offset_sec': -3600, 'offset_string': '-0100', 'short_name': 'GMT+1'}, 'what3words': {'words': 'scheme.carless.widths'}, 'wikidata': 'Q350134'}, 'bounds': {'northeast': {'lat': 68.7204406, 'lng': 9.1845703}, 'southwest': {'lat': 1.1425024, 'lng': -81.6943359}}, 'components': {'_category': 'natural/water', '_type': 'body_of_water', 'body_of_water': 'North Atlantic Ocean'}, 'confidence': 1, 'formatted': 'North Atlantic Ocean', 'geometry': {'lat': 21.6856, 'lng': -22.445}}], 'status': {'code': 200, 'message': 'OK'}, 'stay_informed': {'blog': 'https://blog.opencagedata.com', 'mastodon': 'https://en.osm.town/@opencage'}, 'thanks': 'For using an OpenCage API', 'timestamp': {'created_http': 'Mon, 04 Dec 2023 11:31:22 GMT', 'created_unix': 1701689482}, 'total_results': 1}\n"
     ]
    }
   ],
   "source": [
    "print(city_obj)"
   ]
  },
  {
   "cell_type": "code",
   "execution_count": 10,
   "id": "2a6b4dc7-c8b6-49c0-9dde-18a526647748",
   "metadata": {},
   "outputs": [
    {
     "name": "stdout",
     "output_type": "stream",
     "text": [
      "North Atlantic Ocean\n"
     ]
    }
   ],
   "source": [
    "#Get the location name\n",
    "category=city_obj[\"results\"][0][\"components\"][\"_category\"]\n",
    "\n",
    "type=city_obj[\"results\"][0][\"components\"][\"_type\"]\n",
    "if type=='building' or type=='road':\n",
    "    location=city_obj[\"results\"][0][\"components\"][\"county\"]\n",
    "else:\n",
    "    location=city_obj[\"results\"][0][\"components\"][type]\n",
    "    \n",
    "\n",
    "print(location)"
   ]
  },
  {
   "cell_type": "code",
   "execution_count": 11,
   "id": "abfe4f48-f541-4afd-bc61-7245d6d760ab",
   "metadata": {},
   "outputs": [
    {
     "name": "stdout",
     "output_type": "stream",
     "text": [
      "day\n"
     ]
    }
   ],
   "source": [
    "#To check the day time or the night time by the time of sunrise and sunset\n",
    "loc_sun=city_obj[\"results\"][0]['annotations']['sun']\n",
    "sunrise=loc_sun['rise']['apparent']\n",
    "sunset=loc_sun['set']['apparent']\n",
    "localtime=timestamp+city_obj[\"results\"][0]['annotations']['timezone']['offset_sec']\n",
    "\n",
    "if localtime>sunrise and localtime<sunset: \n",
    "    city_status='day'\n",
    "else:\n",
    "    city_status='night'\n",
    "    \n",
    "print(city_status)"
   ]
  },
  {
   "cell_type": "code",
   "execution_count": 12,
   "id": "2b2c74d6-235f-4615-83fe-a78e4e308bc3",
   "metadata": {},
   "outputs": [],
   "source": [
    "\n",
    "with open(\"keys/weather_key.txt\", \"r\") as file:\n",
    "    weather_key = file.read()\n",
    "    \n",
    "with open(\"keys/openai_key.txt\", \"r\") as file:\n",
    "    openai_key = file.read()"
   ]
  },
  {
   "cell_type": "code",
   "execution_count": 13,
   "id": "1a9dc5f9-17e8-4386-921b-b1d3200543ef",
   "metadata": {},
   "outputs": [],
   "source": [
    "#Get local weather information\n",
    "weather_url = f'https://api.openweathermap.org/data/2.5/weather?lat={latitude}&lon={longitude}&appid={weather_key}'\n",
    "request_weather = urllib.request.Request(weather_url)\n",
    "response_weather = urllib.request.urlopen(request_weather)"
   ]
  },
  {
   "cell_type": "code",
   "execution_count": 14,
   "id": "224d153f-cd4f-4ad2-9062-1098afb52cd6",
   "metadata": {},
   "outputs": [
    {
     "name": "stdout",
     "output_type": "stream",
     "text": [
      "Clouds\n"
     ]
    }
   ],
   "source": [
    "weather_obj = json.loads(response_weather.read())\n",
    "weather = weather_obj['weather'][0]['main']\n",
    "print (weather)"
   ]
  },
  {
   "cell_type": "code",
   "execution_count": 15,
   "id": "9269fe2c-4c28-4433-9062-5af891f255ac",
   "metadata": {},
   "outputs": [
    {
     "name": "stdout",
     "output_type": "stream",
     "text": [
      "ChatCompletion(id='chatcmpl-8S1SWB4lnqJA90AAPNcL4hGbBB7HL', choices=[Choice(finish_reason='stop', index=0, message=ChatCompletionMessage(content='[\"whales\", \"seagulls\", \"fishing boats\", \"ocean currents\", \"puffins\", \"ocean spray\", \"rainbows\", \"bioluminescence\", \"shipwrecks\", \"whale watching\", \"sailboats\", \"dolphins\", \"storm petrels\", \"surfing\", \"kelp forests\"]', role='assistant', function_call=None, tool_calls=None))], created=1701689484, model='gpt-3.5-turbo-0613', object='chat.completion', system_fingerprint=None, usage=CompletionUsage(completion_tokens=74, prompt_tokens=39, total_tokens=113))\n"
     ]
    }
   ],
   "source": [
    "#Get key words by OpenAI API\n",
    "number='15'\n",
    "\n",
    "client = OpenAI(\n",
    "   \n",
    "    api_key= openai_key,\n",
    ")\n",
    "response = client.chat.completions.create(\n",
    "    messages=[\n",
    "        {\n",
    "            \"role\": \"user\",\n",
    "            \"content\": f\"Generate JSON list of {number} keywords of unique things in {location} in {city_status} time in {weather} weather, with no format, no explanation, no enter.\", \n",
    "\n",
    "        }\n",
    "    ],\n",
    "    model=\"gpt-3.5-turbo\",\n",
    ")\n",
    "print(response)\n"
   ]
  },
  {
   "cell_type": "code",
   "execution_count": 16,
   "id": "2f3b5743-808b-4670-a48d-d13e067b5b00",
   "metadata": {},
   "outputs": [
    {
     "name": "stdout",
     "output_type": "stream",
     "text": [
      "[\"whales\", \"seagulls\", \"fishing boats\", \"ocean currents\", \"puffins\", \"ocean spray\", \"rainbows\", \"bioluminescence\", \"shipwrecks\", \"whale watching\", \"sailboats\", \"dolphins\", \"storm petrels\", \"surfing\", \"kelp forests\"]\n",
      "['whales', 'seagulls', 'fishing boats', 'ocean currents', 'puffins', 'ocean spray', 'rainbows', 'bioluminescence', 'shipwrecks', 'whale watching', 'sailboats', 'dolphins', 'storm petrels', 'surfing', 'kelp forests']\n"
     ]
    }
   ],
   "source": [
    "#Format the response\n",
    "raw_string = str(response)\n",
    "\n",
    "if raw_string.find(\"keywords\")>0:\n",
    "    content_start = raw_string.find('\"keywords\":' ) + len('\"keywords\":')\n",
    "    content_end = raw_string.find(\"', role=\", content_start)-1\n",
    "else:\n",
    "    content_start = raw_string.find(\"content='\") + len(\"content='\")\n",
    "    content_end = raw_string.find(\"', role=\", content_start)\n",
    "json_content = raw_string[content_start:content_end]\n",
    "\n",
    "\n",
    "print(json_content)\n",
    "keywords_list = json.loads(json_content)\n",
    "\n",
    "print(keywords_list)\n"
   ]
  },
  {
   "cell_type": "code",
   "execution_count": 17,
   "id": "426ac09e-0124-48f1-ae62-52b70421a55c",
   "metadata": {},
   "outputs": [],
   "source": [
    "with open(\"keys/spotify_keys.json\", \"r\") as file:\n",
    "    api_tokens = json.load(file)"
   ]
  },
  {
   "cell_type": "code",
   "execution_count": 18,
   "id": "e9d83317-20d1-4599-8507-cfa4019ae28c",
   "metadata": {},
   "outputs": [],
   "source": [
    "client_id = api_tokens[\"client_id\"]\n",
    "client_secret = api_tokens[\"client_secret\"]\n",
    "redirectURI = api_tokens[\"redirect\"]\n",
    "username = api_tokens[\"username\"]\n",
    "userid = api_tokens[\"userid\"]"
   ]
  },
  {
   "cell_type": "code",
   "execution_count": 19,
   "id": "9eff7f38-bf72-460b-8f34-5fd39f9ab307",
   "metadata": {},
   "outputs": [],
   "source": [
    "scope = 'user-read-private user-read-playback-state user-modify-playback-state playlist-modify-public user-library-read ugc-image-upload'\n",
    "token = util.prompt_for_user_token(username, scope, client_id=client_id,\n",
    "                           client_secret=client_secret,\n",
    "                           redirect_uri=redirectURI)"
   ]
  },
  {
   "cell_type": "code",
   "execution_count": 20,
   "id": "d4dab846-640c-4805-860e-68f70341ba1b",
   "metadata": {},
   "outputs": [],
   "source": [
    "sp = spotipy.Spotify(auth=token)"
   ]
  },
  {
   "cell_type": "code",
   "execution_count": 21,
   "id": "7a1b58e1-1ddb-4466-a204-bc827bf5e371",
   "metadata": {},
   "outputs": [],
   "source": [
    "tracks = []\n",
    "\n",
    "for word in keywords_list:\n",
    "    searchResults = sp.search(q=word,type='track',limit=1)\n",
    "    if len(searchResults['tracks']['items'])>0:\n",
    "        tracks.append(searchResults['tracks']['items'][0]['uri'])"
   ]
  },
  {
   "cell_type": "code",
   "execution_count": 22,
   "id": "2c625c9e-282f-45fc-a5c4-b92711473bf5",
   "metadata": {
    "scrolled": true
   },
   "outputs": [
    {
     "name": "stdout",
     "output_type": "stream",
     "text": [
      "{'snapshot_id': 'MyxkNDA3YmQ3ZTRlMzMyOWU3MTg0OGZiNWZkODI3ODQ2ODUzY2EwNWFk'}\n",
      "{'collaborative': False, 'description': 'We are now approching North Atlantic Ocean.  Time: 2023-12-04 11:31:22  Weather: Clouds', 'external_urls': {'spotify': 'https://open.spotify.com/playlist/4TDqrfWkTvRjMLhHRMZxSS'}, 'followers': {'href': None, 'total': 0}, 'href': 'https://api.spotify.com/v1/playlists/4TDqrfWkTvRjMLhHRMZxSS', 'id': '4TDqrfWkTvRjMLhHRMZxSS', 'images': [], 'name': 'Go to North Atlantic Ocean with ISS', 'owner': {'display_name': 'WangxinLiu', 'external_urls': {'spotify': 'https://open.spotify.com/user/31mvdqp55nskpk66v4nzpyea42ci'}, 'href': 'https://api.spotify.com/v1/users/31mvdqp55nskpk66v4nzpyea42ci', 'id': '31mvdqp55nskpk66v4nzpyea42ci', 'type': 'user', 'uri': 'spotify:user:31mvdqp55nskpk66v4nzpyea42ci'}, 'primary_color': None, 'public': True, 'snapshot_id': 'MSw3N2UyN2MyMmM0YTViY2ViMDFiMzY4NzRhNDVkMmIwZjA1Yjc1YzQx', 'tracks': {'href': 'https://api.spotify.com/v1/playlists/4TDqrfWkTvRjMLhHRMZxSS/tracks', 'items': [], 'limit': 100, 'next': None, 'offset': 0, 'previous': None, 'total': 0}, 'type': 'playlist', 'uri': 'spotify:playlist:4TDqrfWkTvRjMLhHRMZxSS'}\n"
     ]
    }
   ],
   "source": [
    "\n",
    "\n",
    "my_playlist = sp.user_playlist_create(user=userid, name=f\"Go to {location} with {line}\", public=True,\n",
    "                                      description=f\"We are now approching {location}.  Time: {time}  Weather: {weather}\")\n",
    "\n",
    "\n",
    "\n",
    "results = sp.user_playlist_add_tracks(username, my_playlist['id'], tracks)\n",
    "print(results)\n",
    "print(my_playlist)\n",
    "\n"
   ]
  },
  {
   "cell_type": "code",
   "execution_count": 23,
   "id": "43282590-3d3f-4b1b-b222-946593201d8e",
   "metadata": {},
   "outputs": [
    {
     "name": "stdout",
     "output_type": "stream",
     "text": [
      "341691.748084354,2389908.6198864314,359323.748084354,2407540.6198864314\n"
     ]
    }
   ],
   "source": [
    "def latlon_to_bbox(lat, lon, buffer_meters=randrange(5000,9000)):\n",
    "    # Define the WGS84 coordinate system (latitude and longitude)\n",
    "    wgs84 = Proj('epsg:4326')\n",
    "\n",
    "    # Convert latitude and longitude to UTM coordinates\n",
    "    utm_zone, _ = get_utm_zone(float(lat), float(lon))  # Convert to float here\n",
    "    utm_proj = Proj(proj='utm', zone=utm_zone, ellps='WGS84')\n",
    "    \n",
    "    transformer = Transformer.from_proj(wgs84, utm_proj)\n",
    "    x, y = transformer.transform(float(lat), float(lon))  # Convert to float here\n",
    "\n",
    "    # Create BBOX\n",
    "    bbox = (\n",
    "        x - buffer_meters,\n",
    "        y - buffer_meters,\n",
    "        x + buffer_meters,\n",
    "        y + buffer_meters\n",
    "    )\n",
    "    bbox_str = ','.join(map(str, bbox))\n",
    "    return bbox_str\n",
    "\n",
    "def get_utm_zone(lat, lon):\n",
    "    # Determine UTM zone based on longitude\n",
    "    zone = int((float(lon) + 180) / 6) + 1\n",
    "    hemisphere = 'north' if float(lat) >= 0 else 'south'\n",
    "    return zone, hemisphere\n",
    "\n",
    "\n",
    "\n",
    "bbox = latlon_to_bbox(latitude, longitude)\n",
    "print(bbox)"
   ]
  },
  {
   "cell_type": "code",
   "execution_count": 24,
   "id": "bd68df69-df29-484e-ab76-e91f12089320",
   "metadata": {},
   "outputs": [],
   "source": [
    "with open(\"keys/sentinel_keys.json\", \"r\") as file:\n",
    "    api_tokens = json.load(file)\n",
    "sentinel_API = api_tokens[\"client_API\"]"
   ]
  },
  {
   "cell_type": "code",
   "execution_count": 25,
   "id": "09417e41-ad9c-4920-87f0-fb4ce3c7d184",
   "metadata": {},
   "outputs": [],
   "source": [
    "url=f\"https://services.sentinel-hub.com/ogc/wms/{sentinel_API}?REQUEST=GetMap&BBOX={bbox}&LAYERS=NATURAL-COLOR&MAXCC=60&WIDTH=640&HEIGHT=640&FORMAT=image/jpeg&TIME=2023-12-04\"\n",
    "webbrowser.open(url)\n",
    "response = requests.get(url)"
   ]
  },
  {
   "cell_type": "code",
   "execution_count": 26,
   "id": "8be06b63-7c1b-4211-a2e7-7c348e0732f9",
   "metadata": {},
   "outputs": [
    {
     "name": "stdout",
     "output_type": "stream",
     "text": [
      "Image downloaded successfully.\n"
     ]
    }
   ],
   "source": [
    "if response.status_code == 200:\n",
    "    # Create an Image object from the content\n",
    "    img = Image.open(BytesIO(response.content))\n",
    "\n",
    "    # Save the image to a file\n",
    "    img.save(f'image.jpg')\n",
    "\n",
    "    print(\"Image downloaded successfully.\")\n",
    "else:\n",
    "    print(f\"Failed to download image. Status code: {response.status_code}\")"
   ]
  },
  {
   "cell_type": "code",
   "execution_count": 27,
   "id": "adfc7b1d-6212-4ff2-9692-07f2b9873a67",
   "metadata": {},
   "outputs": [],
   "source": [
    "playlist_id =  my_playlist['id']\n",
    "\n",
    "image_path = f'image.jpg'\n",
    "\n",
    "# load image\n",
    "with open(image_path, 'rb') as image_file:\n",
    "    image_data = image_file.read()\n",
    "    base64_image_data = base64.b64encode(image_data).decode('utf-8')"
   ]
  },
  {
   "cell_type": "code",
   "execution_count": 28,
   "id": "866ee93d-4ba6-4bf6-991d-f482232489f3",
   "metadata": {},
   "outputs": [],
   "source": [
    "headers = {\n",
    "    'Authorization': f'Bearer {token}',\n",
    "    'Content-Type': 'image/jpg'\n",
    "}\n",
    "\n",
    "url = f'https://api.spotify.com/v1/playlists/{playlist_id}/images'\n",
    "\n",
    "# change cover\n",
    "response = requests.put(url, headers=headers, data=base64_image_data)"
   ]
  },
  {
   "cell_type": "code",
   "execution_count": 29,
   "id": "6729f877-5c50-43fe-b62c-f479edcd3c72",
   "metadata": {},
   "outputs": [
    {
     "data": {
      "text/plain": [
       "True"
      ]
     },
     "execution_count": 29,
     "metadata": {},
     "output_type": "execute_result"
    }
   ],
   "source": [
    "webbrowser.open(my_playlist['external_urls']['spotify'])"
   ]
  },
  {
   "cell_type": "code",
   "execution_count": null,
   "id": "21aca558-4ba4-4172-b24c-f097dd12629c",
   "metadata": {},
   "outputs": [],
   "source": []
  },
  {
   "cell_type": "code",
   "execution_count": null,
   "id": "9bcbcbc9-cce6-4f31-b771-84411cd6a03d",
   "metadata": {},
   "outputs": [],
   "source": []
  },
  {
   "cell_type": "code",
   "execution_count": null,
   "id": "a337debd-707a-4b5e-bfd8-d7ba595bf912",
   "metadata": {},
   "outputs": [],
   "source": []
  },
  {
   "cell_type": "code",
   "execution_count": null,
   "id": "d37f50f6-7fc4-487b-ab45-546e04a6a8aa",
   "metadata": {},
   "outputs": [],
   "source": []
  },
  {
   "cell_type": "code",
   "execution_count": null,
   "id": "64545de1-5157-4d1f-9a19-4145338317b2",
   "metadata": {},
   "outputs": [],
   "source": []
  },
  {
   "cell_type": "code",
   "execution_count": null,
   "id": "ede42b81-75c3-4cd9-ba3f-6e40baeedee7",
   "metadata": {},
   "outputs": [],
   "source": []
  },
  {
   "cell_type": "code",
   "execution_count": null,
   "id": "ab65ebaa-21a3-4f63-ab88-89d238078a5b",
   "metadata": {},
   "outputs": [],
   "source": []
  },
  {
   "cell_type": "code",
   "execution_count": null,
   "id": "3faca853-6c34-4e81-82af-b8fe2479da29",
   "metadata": {},
   "outputs": [],
   "source": []
  },
  {
   "cell_type": "code",
   "execution_count": null,
   "id": "31fadd4d-f0fb-4f67-a2d5-89bb99690b22",
   "metadata": {},
   "outputs": [],
   "source": []
  },
  {
   "cell_type": "code",
   "execution_count": null,
   "id": "da3209eb-f38d-47b9-9ebe-92a137a69ba8",
   "metadata": {},
   "outputs": [],
   "source": []
  },
  {
   "cell_type": "code",
   "execution_count": null,
   "id": "13ca5285-33c8-4914-8335-7b8a913ae3d0",
   "metadata": {},
   "outputs": [],
   "source": []
  },
  {
   "cell_type": "code",
   "execution_count": null,
   "id": "4b982e4b-de36-4ad3-84e3-e08ab9e05c87",
   "metadata": {},
   "outputs": [],
   "source": []
  },
  {
   "cell_type": "code",
   "execution_count": null,
   "id": "1fd32b91-7fb2-489b-a069-f0b916fe8e62",
   "metadata": {},
   "outputs": [],
   "source": []
  },
  {
   "cell_type": "code",
   "execution_count": null,
   "id": "65395514-808a-47bd-a51a-12f488203296",
   "metadata": {},
   "outputs": [],
   "source": []
  },
  {
   "cell_type": "code",
   "execution_count": null,
   "id": "c91320d5-0be4-437c-9c3e-5cea0b6995ad",
   "metadata": {},
   "outputs": [],
   "source": []
  },
  {
   "cell_type": "code",
   "execution_count": null,
   "id": "e4e2f1d9-02c7-4cec-a93b-49324caf5934",
   "metadata": {},
   "outputs": [],
   "source": []
  },
  {
   "cell_type": "code",
   "execution_count": null,
   "id": "bb433e90-93bd-4670-9898-ce56dafb58eb",
   "metadata": {},
   "outputs": [],
   "source": []
  },
  {
   "cell_type": "code",
   "execution_count": null,
   "id": "9ee5b527-6cdd-41c2-9ac2-f540f5036681",
   "metadata": {},
   "outputs": [],
   "source": []
  },
  {
   "cell_type": "code",
   "execution_count": null,
   "id": "a6caf6fd-bdf2-4f17-accb-a826e1be9625",
   "metadata": {},
   "outputs": [],
   "source": []
  },
  {
   "cell_type": "code",
   "execution_count": null,
   "id": "7bb44330-6794-4bbd-8511-f5374ef850b8",
   "metadata": {},
   "outputs": [],
   "source": []
  },
  {
   "cell_type": "code",
   "execution_count": 30,
   "id": "0975bcc1-01d6-4178-8086-58ca2ede0f7e",
   "metadata": {},
   "outputs": [],
   "source": [
    "##"
   ]
  }
 ],
 "metadata": {
  "kernelspec": {
   "display_name": "Python 3 (ipykernel)",
   "language": "python",
   "name": "python3"
  },
  "language_info": {
   "codemirror_mode": {
    "name": "ipython",
    "version": 3
   },
   "file_extension": ".py",
   "mimetype": "text/x-python",
   "name": "python",
   "nbconvert_exporter": "python",
   "pygments_lexer": "ipython3",
   "version": "3.12.0"
  }
 },
 "nbformat": 4,
 "nbformat_minor": 5
}
